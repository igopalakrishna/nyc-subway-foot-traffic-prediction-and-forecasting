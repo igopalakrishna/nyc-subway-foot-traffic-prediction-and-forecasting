{
 "cells": [
  {
   "cell_type": "markdown",
   "id": "d5d9f45f-3c66-47fe-9add-4c30a5ab4cf2",
   "metadata": {},
   "source": [
    "# Random Forest Training on NYC Turnstile Data using PySpark & MongoDB\n",
    "\n",
    "This script loads raw entry/exit foot traffic data from a MongoDB collection (`mta_db.raw_turnstile`), performs feature engineering (timestamp parsing, station indexing), and trains two separate Random Forest regression models to predict:\n",
    "\n",
    "- `ENTRIES` per station-hour-day combination\n",
    "- `EXITS` per station-hour-day combination\n",
    "\n",
    "The trained models are saved locally and later used in streaming inference to predict foot traffic in real time.\n"
   ]
  },
  {
   "cell_type": "code",
   "execution_count": 2,
   "id": "9fbd6c6d-ec51-40e2-b056-6ad8dbb1d7ce",
   "metadata": {},
   "outputs": [],
   "source": [
    "from pyspark.sql import SparkSession\n",
    "from pyspark.ml.feature import StringIndexer, VectorAssembler\n",
    "from pyspark.ml.regression import RandomForestRegressor\n",
    "from pyspark.ml import Pipeline"
   ]
  },
  {
   "cell_type": "markdown",
   "id": "c25f71d8-1d9e-4dfb-9ac4-00cf96f2269e",
   "metadata": {},
   "source": [
    "## Initialize Spark Session &  Load Raw Turnstile Data from MongoDB"
   ]
  },
  {
   "cell_type": "code",
   "execution_count": 4,
   "id": "f66b9417-1b8e-407f-ac51-1adc6d9c144b",
   "metadata": {},
   "outputs": [
    {
     "name": "stdout",
     "output_type": "stream",
     "text": [
      ":: loading settings :: url = jar:file:/opt/anaconda3/lib/python3.11/site-packages/pyspark/jars/ivy-2.5.1.jar!/org/apache/ivy/core/settings/ivysettings.xml\n"
     ]
    },
    {
     "name": "stderr",
     "output_type": "stream",
     "text": [
      "Ivy Default Cache set to: /Users/gopalakrishnaabba/.ivy2/cache\n",
      "The jars for the packages stored in: /Users/gopalakrishnaabba/.ivy2/jars\n",
      "org.mongodb.spark#mongo-spark-connector_2.12 added as a dependency\n",
      ":: resolving dependencies :: org.apache.spark#spark-submit-parent-067b9d67-0a2a-4f78-b6f3-d83582474a01;1.0\n",
      "\tconfs: [default]\n",
      "\tfound org.mongodb.spark#mongo-spark-connector_2.12;3.0.1 in central\n",
      "\tfound org.mongodb#mongodb-driver-sync;4.0.5 in central\n",
      "\tfound org.mongodb#bson;4.0.5 in central\n",
      "\tfound org.mongodb#mongodb-driver-core;4.0.5 in central\n",
      ":: resolution report :: resolve 160ms :: artifacts dl 7ms\n",
      "\t:: modules in use:\n",
      "\torg.mongodb#bson;4.0.5 from central in [default]\n",
      "\torg.mongodb#mongodb-driver-core;4.0.5 from central in [default]\n",
      "\torg.mongodb#mongodb-driver-sync;4.0.5 from central in [default]\n",
      "\torg.mongodb.spark#mongo-spark-connector_2.12;3.0.1 from central in [default]\n",
      "\t---------------------------------------------------------------------\n",
      "\t|                  |            modules            ||   artifacts   |\n",
      "\t|       conf       | number| search|dwnlded|evicted|| number|dwnlded|\n",
      "\t---------------------------------------------------------------------\n",
      "\t|      default     |   4   |   0   |   0   |   0   ||   4   |   0   |\n",
      "\t---------------------------------------------------------------------\n",
      ":: retrieving :: org.apache.spark#spark-submit-parent-067b9d67-0a2a-4f78-b6f3-d83582474a01\n",
      "\tconfs: [default]\n",
      "\t0 artifacts copied, 4 already retrieved (0kB/5ms)\n",
      "25/05/05 11:18:35 WARN NativeCodeLoader: Unable to load native-hadoop library for your platform... using builtin-java classes where applicable\n",
      "Setting default log level to \"WARN\".\n",
      "To adjust logging level use sc.setLogLevel(newLevel). For SparkR, use setLogLevel(newLevel).\n",
      "25/05/05 11:18:36 WARN Utils: Service 'SparkUI' could not bind on port 4040. Attempting port 4041.\n",
      "                                                                                \r"
     ]
    }
   ],
   "source": [
    "# Step 1: Create Spark Session\n",
    "spark = SparkSession.builder \\\n",
    "    .appName(\"Train_MTA_RF_Model\") \\\n",
    "    .config(\"spark.jars.packages\", \"org.mongodb.spark:mongo-spark-connector_2.12:3.0.1\") \\\n",
    "    .getOrCreate()\n",
    "\n",
    "# Step 2: Load raw (non-aggregated) turnstile data from MongoDB\n",
    "raw_df = spark.read \\\n",
    "    .format(\"mongo\") \\\n",
    "    .option(\"uri\", \"mongodb://localhost:27017/mta_db.raw_turnstile\") \\\n",
    "    .load()\n",
    "\n",
    "# Rename correct fields from ENTRY_COUNT and EXIT_COUNT\n",
    "if \"ENTRY_COUNT\" in raw_df.columns and \"EXIT_COUNT\" in raw_df.columns:\n",
    "    raw_df = raw_df.withColumnRenamed(\"ENTRY_COUNT\", \"ENTRIES\").withColumnRenamed(\"EXIT_COUNT\", \"EXITS\")"
   ]
  },
  {
   "cell_type": "markdown",
   "id": "07557766-c6e3-4df0-83df-32600c06463d",
   "metadata": {},
   "source": [
    "- Creates a Spark session with necessary connectors for MongoDB so we can load training data directly from the `raw_turnstile collection`.\n",
    "\n",
    "- Reads real-time ingested subway turnstile data from MongoDB (`mta_db.raw_turnstile`). This contains raw entry/exit counts per station.\n"
   ]
  },
  {
   "cell_type": "markdown",
   "id": "c7fa4c6b-eea9-41b2-b721-3db3f284d370",
   "metadata": {},
   "source": [
    "## Feature Engineering"
   ]
  },
  {
   "cell_type": "code",
   "execution_count": 7,
   "id": "4f322667-1e93-4821-a2d8-4da51fa9d044",
   "metadata": {},
   "outputs": [],
   "source": [
    "from pyspark.sql.functions import hour, dayofweek, to_timestamp, concat_ws\n",
    "\n",
    "# Combine DATE and TIME into a single timestamp column\n",
    "raw_df = raw_df.withColumn(\n",
    "    \"datetime\", \n",
    "    to_timestamp(concat_ws(' ', raw_df[\"DATE\"], raw_df[\"TIME\"]), \"MM/dd/yyyy HH:mm:ss\")\n",
    ")\n",
    "\n",
    "# Extract hour of day and day of week from timestamp\n",
    "raw_df = raw_df.withColumn(\"hour\", hour(\"datetime\"))\n",
    "raw_df = raw_df.withColumn(\"day_of_week\", dayofweek(\"datetime\"))\n"
   ]
  },
  {
   "cell_type": "code",
   "execution_count": 8,
   "id": "e02c787d-8a8a-4f12-b112-731a9a0edce9",
   "metadata": {},
   "outputs": [],
   "source": [
    "# Step 3: Feature Engineering\n",
    "indexer = StringIndexer(inputCol=\"STATION\", outputCol=\"station_index\")\n",
    "assembler = VectorAssembler(inputCols=[\"station_index\", \"hour\", \"day_of_week\"], outputCol=\"features\")"
   ]
  },
  {
   "cell_type": "markdown",
   "id": "71041213-7c2d-406d-bd74-e6730776c4cf",
   "metadata": {},
   "source": [
    "Converts station names to numeric indices using `StringIndexer`, then creates feature vectors with `VectorAssembler`."
   ]
  },
  {
   "cell_type": "code",
   "execution_count": 10,
   "id": "01813ce9-a5d8-4dca-bde2-967466bc09c8",
   "metadata": {},
   "outputs": [
    {
     "name": "stderr",
     "output_type": "stream",
     "text": [
      "                                                                                \r"
     ]
    },
    {
     "name": "stdout",
     "output_type": "stream",
     "text": [
      "ENTRIES Model:\n",
      " - Number of Trees: 20\n",
      " - Feature Importances: (3,[0,1],[0.6889107997005658,0.3110892002994342])\n",
      " - Tree Weights: [1.0, 1.0, 1.0, 1.0, 1.0, 1.0, 1.0, 1.0, 1.0, 1.0, 1.0, 1.0, 1.0, 1.0, 1.0, 1.0, 1.0, 1.0, 1.0, 1.0]\n"
     ]
    },
    {
     "name": "stderr",
     "output_type": "stream",
     "text": [
      "                                                                                \r"
     ]
    },
    {
     "name": "stdout",
     "output_type": "stream",
     "text": [
      "\n",
      "EXITS Model:\n",
      " - Number of Trees: 20\n",
      " - Feature Importances: (3,[0,1],[0.7179336153302223,0.2820663846697776])\n",
      " - Tree Weights: [1.0, 1.0, 1.0, 1.0, 1.0, 1.0, 1.0, 1.0, 1.0, 1.0, 1.0, 1.0, 1.0, 1.0, 1.0, 1.0, 1.0, 1.0, 1.0, 1.0]\n"
     ]
    }
   ],
   "source": [
    "\n",
    "# Step 5: Train model for ENTRIES\n",
    "if \"ENTRIES\" in raw_df.columns:\n",
    "    rf_entries = RandomForestRegressor(featuresCol=\"features\", labelCol=\"ENTRIES\")\n",
    "    pipeline_entries = Pipeline(stages=[indexer, assembler, rf_entries])\n",
    "    model_entries = pipeline_entries.fit(raw_df)\n",
    "    rf_model_entries = model_entries.stages[-1]\n",
    "    print(\"ENTRIES Model:\")\n",
    "    print(f\" - Number of Trees: {rf_model_entries.getNumTrees}\")\n",
    "    print(f\" - Feature Importances: {rf_model_entries.featureImportances}\")\n",
    "    print(f\" - Tree Weights: {rf_model_entries.treeWeights}\")\n",
    "    model_entries.write().overwrite().save(\"/Users/gopalakrishnaabba/mta_rf_entries_model\")\n",
    "else:\n",
    "    print(\"Column 'ENTRIES' not found in dataset.\")\n",
    "\n",
    "# Step 6: Train model for EXITS\n",
    "if \"EXITS\" in raw_df.columns:\n",
    "    rf_exits = RandomForestRegressor(featuresCol=\"features\", labelCol=\"EXITS\")\n",
    "    pipeline_exits = Pipeline(stages=[indexer, assembler, rf_exits])\n",
    "    model_exits = pipeline_exits.fit(raw_df)\n",
    "    rf_model_exits = model_exits.stages[-1]\n",
    "    print(\"\\nEXITS Model:\")\n",
    "    print(f\" - Number of Trees: {rf_model_exits.getNumTrees}\")\n",
    "    print(f\" - Feature Importances: {rf_model_exits.featureImportances}\")\n",
    "    print(f\" - Tree Weights: {rf_model_exits.treeWeights}\")\n",
    "    model_exits.write().overwrite().save(\"/Users/gopalakrishnaabba/mta_rf_exits_model\")\n",
    "else:\n",
    "    print(\"Column 'EXITS' not found in dataset.\")"
   ]
  },
  {
   "cell_type": "code",
   "execution_count": null,
   "id": "009f84b6-b38f-4bba-973c-cb70626303c2",
   "metadata": {},
   "outputs": [],
   "source": []
  }
 ],
 "metadata": {
  "kernelspec": {
   "display_name": "Python 3 (ipykernel)",
   "language": "python",
   "name": "python3"
  },
  "language_info": {
   "codemirror_mode": {
    "name": "ipython",
    "version": 3
   },
   "file_extension": ".py",
   "mimetype": "text/x-python",
   "name": "python",
   "nbconvert_exporter": "python",
   "pygments_lexer": "ipython3",
   "version": "3.11.7"
  }
 },
 "nbformat": 4,
 "nbformat_minor": 5
}
