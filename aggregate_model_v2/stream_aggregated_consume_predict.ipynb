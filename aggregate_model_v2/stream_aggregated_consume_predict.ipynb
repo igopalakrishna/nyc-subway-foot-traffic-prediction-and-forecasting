{
 "cells": [
  {
   "cell_type": "code",
   "execution_count": null,
   "id": "1a8808ab-2621-4ae8-ab40-85cec78cc59b",
   "metadata": {},
   "outputs": [],
   "source": [
    "from pyspark.sql import SparkSession\n",
    "from pyspark.sql.functions import split\n",
    "from pyspark.ml import PipelineModel"
   ]
  },
  {
   "cell_type": "code",
   "execution_count": null,
   "id": "49b9c79a-1fe7-40ab-8ef0-21bdd4148d4a",
   "metadata": {},
   "outputs": [],
   "source": [
    "# Start Spark session\n",
    "spark = SparkSession.builder \\\n",
    "    .appName(\"MTA_Stream_Predict\") \\\n",
    "    .config(\"spark.jars.packages\", \"org.apache.spark:spark-sql-kafka-0-10_2.12:3.5.0\") \\\n",
    "    .getOrCreate()\n",
    "spark.sparkContext.setLogLevel(\"WARN\")"
   ]
  },
  {
   "cell_type": "code",
   "execution_count": null,
   "id": "4dd2f133-7ea8-4c5b-87e1-436203645b04",
   "metadata": {},
   "outputs": [],
   "source": [
    "# Kafka Stream\n",
    "kafka_df = spark.readStream \\\n",
    "    .format(\"kafka\") \\\n",
    "    .option(\"kafka.bootstrap.servers\", \"localhost:9092\") \\\n",
    "    .option(\"subscribe\", \"mta_turnstile_topic\") \\\n",
    "    .option(\"startingOffsets\", \"latest\") \\\n",
    "    .load()\n",
    "\n",
    "turnstile_values = kafka_df.selectExpr(\"CAST(value AS STRING) as csv\")\n",
    "split_col = split(turnstile_values[\"csv\"], \",\")\n",
    "\n",
    "turnstile_df = turnstile_values.select(\n",
    "    split_col.getItem(3).alias(\"STATION\")\n",
    ").dropDuplicates([\"STATION\"])"
   ]
  },
  {
   "cell_type": "code",
   "execution_count": null,
   "id": "bf82331d-36b4-4179-970b-4d0de31d07e7",
   "metadata": {},
   "outputs": [],
   "source": [
    "# Load models (trained with handleInvalid='keep')\n",
    "entries_model = PipelineModel.load(\"/Users/gopalakrishnaabba/mta_rf_model_entries\")\n",
    "exits_model   = PipelineModel.load(\"/Users/gopalakrishnaabba/mta_rf_model_exits\")"
   ]
  },
  {
   "cell_type": "code",
   "execution_count": null,
   "id": "5f5b6e03-45a6-4975-b490-dc466d3d6f96",
   "metadata": {},
   "outputs": [],
   "source": [
    "# Predict entries and exits\n",
    "entries_pred = entries_model.transform(turnstile_df).select(\"STATION\", \"prediction\").withColumnRenamed(\"prediction\", \"predicted_ENTRIES\")\n",
    "exits_pred   = exits_model.transform(turnstile_df).select(\"STATION\", \"prediction\").withColumnRenamed(\"prediction\", \"predicted_EXITS\")"
   ]
  },
  {
   "cell_type": "code",
   "execution_count": null,
   "id": "bef9f172-70e4-41e5-a7ea-4a0a130fe87f",
   "metadata": {},
   "outputs": [],
   "source": [
    "# Join predictions\n",
    "joined_predictions = entries_pred.join(exits_pred, on=\"STATION\", how=\"inner\")"
   ]
  },
  {
   "cell_type": "code",
   "execution_count": null,
   "id": "5f2152e5-d35f-45c3-a546-104f3fa320b8",
   "metadata": {},
   "outputs": [],
   "source": [
    "# Output to console\n",
    "query = joined_predictions.writeStream \\\n",
    "    .outputMode(\"append\") \\\n",
    "    .format(\"console\") \\\n",
    "    .option(\"truncate\", False) \\\n",
    "    .start()\n",
    "\n",
    "query.awaitTermination()\n"
   ]
  },
  {
   "cell_type": "code",
   "execution_count": null,
   "id": "7f8e83fc-a245-4895-b464-b84a70086347",
   "metadata": {},
   "outputs": [],
   "source": []
  }
 ],
 "metadata": {
  "kernelspec": {
   "display_name": "Python 3 (ipykernel)",
   "language": "python",
   "name": "python3"
  },
  "language_info": {
   "codemirror_mode": {
    "name": "ipython",
    "version": 3
   },
   "file_extension": ".py",
   "mimetype": "text/x-python",
   "name": "python",
   "nbconvert_exporter": "python",
   "pygments_lexer": "ipython3",
   "version": "3.11.7"
  }
 },
 "nbformat": 4,
 "nbformat_minor": 5
}
