{
 "cells": [
  {
   "cell_type": "code",
   "execution_count": 1,
   "id": "9fbd6c6d-ec51-40e2-b056-6ad8dbb1d7ce",
   "metadata": {},
   "outputs": [],
   "source": [
    "from pyspark.sql import SparkSession\n",
    "from pyspark.ml.feature import StringIndexer, VectorAssembler\n",
    "from pyspark.ml.regression import RandomForestRegressor\n",
    "from pyspark.ml import Pipeline"
   ]
  },
  {
   "cell_type": "code",
   "execution_count": 2,
   "id": "f66b9417-1b8e-407f-ac51-1adc6d9c144b",
   "metadata": {},
   "outputs": [
    {
     "name": "stdout",
     "output_type": "stream",
     "text": [
      ":: loading settings :: url = jar:file:/opt/anaconda3/lib/python3.11/site-packages/pyspark/jars/ivy-2.5.1.jar!/org/apache/ivy/core/settings/ivysettings.xml\n"
     ]
    },
    {
     "name": "stderr",
     "output_type": "stream",
     "text": [
      "Ivy Default Cache set to: /Users/gopalakrishnaabba/.ivy2/cache\n",
      "The jars for the packages stored in: /Users/gopalakrishnaabba/.ivy2/jars\n",
      "org.mongodb.spark#mongo-spark-connector_2.12 added as a dependency\n",
      ":: resolving dependencies :: org.apache.spark#spark-submit-parent-d9451df7-65a1-4864-b7c0-5b2f791c33f7;1.0\n",
      "\tconfs: [default]\n",
      "\tfound org.mongodb.spark#mongo-spark-connector_2.12;3.0.1 in central\n",
      "\tfound org.mongodb#mongodb-driver-sync;4.0.5 in central\n",
      "\tfound org.mongodb#bson;4.0.5 in central\n",
      "\tfound org.mongodb#mongodb-driver-core;4.0.5 in central\n",
      ":: resolution report :: resolve 117ms :: artifacts dl 5ms\n",
      "\t:: modules in use:\n",
      "\torg.mongodb#bson;4.0.5 from central in [default]\n",
      "\torg.mongodb#mongodb-driver-core;4.0.5 from central in [default]\n",
      "\torg.mongodb#mongodb-driver-sync;4.0.5 from central in [default]\n",
      "\torg.mongodb.spark#mongo-spark-connector_2.12;3.0.1 from central in [default]\n",
      "\t---------------------------------------------------------------------\n",
      "\t|                  |            modules            ||   artifacts   |\n",
      "\t|       conf       | number| search|dwnlded|evicted|| number|dwnlded|\n",
      "\t---------------------------------------------------------------------\n",
      "\t|      default     |   4   |   0   |   0   |   0   ||   4   |   0   |\n",
      "\t---------------------------------------------------------------------\n",
      ":: retrieving :: org.apache.spark#spark-submit-parent-d9451df7-65a1-4864-b7c0-5b2f791c33f7\n",
      "\tconfs: [default]\n",
      "\t0 artifacts copied, 4 already retrieved (0kB/4ms)\n",
      "25/05/04 17:36:49 WARN NativeCodeLoader: Unable to load native-hadoop library for your platform... using builtin-java classes where applicable\n",
      "Setting default log level to \"WARN\".\n",
      "To adjust logging level use sc.setLogLevel(newLevel). For SparkR, use setLogLevel(newLevel).\n",
      "25/05/04 17:36:50 WARN Utils: Service 'SparkUI' could not bind on port 4040. Attempting port 4041.\n"
     ]
    }
   ],
   "source": [
    "spark = SparkSession.builder \\\n",
    "    .appName(\"Train_MTA_RF_Model\") \\\n",
    "    .config(\"spark.jars.packages\", \"org.mongodb.spark:mongo-spark-connector_2.12:3.0.1\") \\\n",
    "    .getOrCreate()\n",
    "\n",
    "df = spark.read \\\n",
    "    .format(\"mongo\") \\\n",
    "    .option(\"uri\", \"mongodb://localhost:27017/mta_db.foot_traffic\") \\\n",
    "    .load()\n"
   ]
  },
  {
   "cell_type": "code",
   "execution_count": 3,
   "id": "e02c787d-8a8a-4f12-b112-731a9a0edce9",
   "metadata": {},
   "outputs": [],
   "source": [
    "\n",
    "# Index and assemble features\n",
    "indexer = StringIndexer(inputCol=\"STATION\", outputCol=\"station_index\")\n",
    "assembler = VectorAssembler(inputCols=[\"station_index\"], outputCol=\"features\")\n",
    "\n",
    "# # Model for ENTRIES\n",
    "# rf_entries = RandomForestRegressor(featuresCol=\"features\", labelCol=\"sum(ENTRIES)\")\n",
    "# pipeline_entries = Pipeline(stages=[indexer, assembler, rf_entries])\n",
    "# model_entries = pipeline_entries.fit(df)\n",
    "# model_entries.write().overwrite().save(\"/Users/gopalakrishnaabba/mta_rf_entries_model\")\n",
    "\n",
    "# # Model for EXITS\n",
    "# rf_exits = RandomForestRegressor(featuresCol=\"features\", labelCol=\"sum(EXITS)\")\n",
    "# pipeline_exits = Pipeline(stages=[indexer, assembler, rf_exits])\n",
    "# model_exits = pipeline_exits.fit(df)\n",
    "# model_exits.write().overwrite().save(\"/Users/gopalakrishnaabba/mta_rf_exits_model\")"
   ]
  },
  {
   "cell_type": "code",
   "execution_count": 4,
   "id": "01813ce9-a5d8-4dca-bde2-967466bc09c8",
   "metadata": {},
   "outputs": [
    {
     "name": "stderr",
     "output_type": "stream",
     "text": [
      "25/05/04 17:36:55 WARN DecisionTreeMetadata: DecisionTree reducing maxBins from 32 to 10 (= number of training instances)\n"
     ]
    },
    {
     "name": "stdout",
     "output_type": "stream",
     "text": [
      "ENTRIES Model:\n",
      " - Number of Trees: 20\n",
      " - Feature Importances: (1,[0],[1.0])\n",
      " - Tree Weights: [1.0, 1.0, 1.0, 1.0, 1.0, 1.0, 1.0, 1.0, 1.0, 1.0, 1.0, 1.0, 1.0, 1.0, 1.0, 1.0, 1.0, 1.0, 1.0, 1.0]\n"
     ]
    },
    {
     "name": "stderr",
     "output_type": "stream",
     "text": [
      "25/05/04 17:36:57 WARN DecisionTreeMetadata: DecisionTree reducing maxBins from 32 to 10 (= number of training instances)\n"
     ]
    },
    {
     "name": "stdout",
     "output_type": "stream",
     "text": [
      "\n",
      "EXITS Model:\n",
      " - Number of Trees: 20\n",
      " - Feature Importances: (1,[0],[1.0])\n",
      " - Tree Weights: [1.0, 1.0, 1.0, 1.0, 1.0, 1.0, 1.0, 1.0, 1.0, 1.0, 1.0, 1.0, 1.0, 1.0, 1.0, 1.0, 1.0, 1.0, 1.0, 1.0]\n"
     ]
    }
   ],
   "source": [
    "# Model for ENTRIES\n",
    "rf_entries = RandomForestRegressor(featuresCol=\"features\", labelCol=\"sum(ENTRIES)\")\n",
    "pipeline_entries = Pipeline(stages=[indexer, assembler, rf_entries])\n",
    "model_entries = pipeline_entries.fit(df)\n",
    "\n",
    "# Print model summary for ENTRIES\n",
    "rf_model_entries = model_entries.stages[-1]\n",
    "print(\"ENTRIES Model:\")\n",
    "print(f\" - Number of Trees: {rf_model_entries.getNumTrees}\")\n",
    "print(f\" - Feature Importances: {rf_model_entries.featureImportances}\")\n",
    "print(f\" - Tree Weights: {rf_model_entries.treeWeights}\")\n",
    "\n",
    "# Save model\n",
    "model_entries.write().overwrite().save(\"/Users/gopalakrishnaabba/mta_rf_entries_model\")\n",
    "\n",
    "# Model for EXITS\n",
    "rf_exits = RandomForestRegressor(featuresCol=\"features\", labelCol=\"sum(EXITS)\")\n",
    "pipeline_exits = Pipeline(stages=[indexer, assembler, rf_exits])\n",
    "model_exits = pipeline_exits.fit(df)\n",
    "\n",
    "# Print model summary for EXITS\n",
    "rf_model_exits = model_exits.stages[-1]\n",
    "print(\"\\nEXITS Model:\")\n",
    "print(f\" - Number of Trees: {rf_model_exits.getNumTrees}\")\n",
    "print(f\" - Feature Importances: {rf_model_exits.featureImportances}\")\n",
    "print(f\" - Tree Weights: {rf_model_exits.treeWeights}\")\n",
    "\n",
    "# Save model\n",
    "model_exits.write().overwrite().save(\"/Users/gopalakrishnaabba/mta_rf_exits_model\")\n"
   ]
  },
  {
   "cell_type": "code",
   "execution_count": null,
   "id": "009f84b6-b38f-4bba-973c-cb70626303c2",
   "metadata": {},
   "outputs": [],
   "source": []
  }
 ],
 "metadata": {
  "kernelspec": {
   "display_name": "Python 3 (ipykernel)",
   "language": "python",
   "name": "python3"
  },
  "language_info": {
   "codemirror_mode": {
    "name": "ipython",
    "version": 3
   },
   "file_extension": ".py",
   "mimetype": "text/x-python",
   "name": "python",
   "nbconvert_exporter": "python",
   "pygments_lexer": "ipython3",
   "version": "3.11.7"
  }
 },
 "nbformat": 4,
 "nbformat_minor": 5
}
